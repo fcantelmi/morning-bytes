{
 "cells": [
  {
   "cell_type": "code",
   "execution_count": null,
   "metadata": {
    "collapsed": true
   },
   "outputs": [],
   "source": [
    "import sympy as sym\n",
    "\n",
    "x, x_0, x_1, epsilon = sym.symbols('x x_0 x_1 epsilon')\n",
    "p = (x - 1) * (x + 1) * (x - epsilon)\n",
    "print(sym.poly(p))\n",
    "pert = p.subs(x, x_0 + epsilon * x_1)\n",
    "print(sym.collect(sym.expand(pert.series(epsilon, 0, 2)), epsilon))\n",
    "\n"
   ]
  }
 ],
 "metadata": {
  "kernelspec": {
   "display_name": "Python 3",
   "language": "python",
   "name": "python3"
  },
  "language_info": {
   "codemirror_mode": {
    "name": "ipython",
    "version": 2
   },
   "file_extension": ".py",
   "mimetype": "text/x-python",
   "name": "python",
   "nbconvert_exporter": "python",
   "pygments_lexer": "ipython2",
   "version": "2.7.6"
  }
 },
 "nbformat": 4,
 "nbformat_minor": 0
}