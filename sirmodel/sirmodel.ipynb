{
 "cells": [
  {
   "cell_type": "markdown",
   "metadata": {},
   "source": [
    "# Introduction\n",
    "The objective of this notebook is to provide a brief introduction to the SIR compartmental epidemiology model and then\n",
    "demonstrate how to run the model for various parameters. Christian Hill's SIR epidemic model example in\n",
    "[Learning Scientific Programming with Python](https://scipython.com/book/chapter-8-scipy/additional-examples/the-sir-epidemic-model/)\n",
    "served as inspiration for some of the material presented herein."
   ]
  },
  {
   "cell_type": "markdown",
   "metadata": {},
   "source": [
    "# Background\n",
    "The SIR [model](https://en.wikipedia.org/wiki/Compartmental_models_in_epidemiology) is an epidemiological model that is useful for understanding how infectious disease in humans and animals evolve over time. It is a compartmental model\n",
    "that divides the population into susceptible, infectious, and recovered groups. Given an initial population\n",
    "distribution, it models the evolution of the number of people in each compartment over time.\n",
    "\n",
    "\\begin{equation*}\n",
    "Susceptible\\xrightarrow{\\beta}Infectious\\xrightarrow{\\gamma}Recovered\n",
    "\\end{equation*}\n",
    "\n",
    "where $\\beta$ is the transmission rate and $\\gamma$ is the recovery rate. Both are rates and therefore have units\n",
    "expressed in per unit time. Alternatively, $1/\\beta$ and $1/\\gamma$ are expressed in time units such as days, weeks,\n",
    "or months. For the purposes of the SIR model, the recovered group no longer affects disease transmission because\n",
    "they are either recovered, deceased, or immune."
   ]
  },
  {
   "cell_type": "markdown",
   "metadata": {},
   "source": [
    "# Why?\n",
    "When studying computational fluid dynamics in graduate school we sometimes found that our computed fluid flows failed to capture all of the features observed in the lab. In these cases, we always reminded ourselves that \"nature got the flow right.\" It was a reminder models do not always capture every phenomena. The aphorism\n",
    "[\"All models are wrong, but some are useful\"](https://en.wikipedia.org/wiki/All_models_are_wrong) holds true for the SIR model. Populations are not constant. Transmission rates are not constant. That said, the model provides insights into the complex interactions that occur in real transmission. It shows the interaction between\n",
    "transmission rate and recovery rate and how they interact in ways that are not intuitive.\n",
    "\n",
    "The SIR model is also important because it serves as the basis for other compartmental models. The simpler SI model can\n",
    "be derived as a special case when the recovery time is infinite. The SIS model\n",
    "can be used to model the common cold where recovery does not confer immunity. The SIRS model is an extension where\n",
    "immunity wanes over time like the flu. Armed with the information below these models will be within reach."
   ]
  },
  {
   "cell_type": "markdown",
   "metadata": {},
   "source": [
    "# The SIR Model\n",
    "\n",
    "The SIR model starts with the assumption that the entire population can be divided into Susceptible, Infectious, and\n",
    "Recovered groups denoted by $S$, $I$, and $R$ respectively. The total population, denoted by $N$, is assumed to\n",
    "remain constant. These values are related as follows:\n",
    "\n",
    "\\begin{equation*}\n",
    "S(t) + I(t) + R(t) = N = {\\text{constant}}\n",
    "\\end{equation*}\n",
    "\n",
    "Our goal is to model how the number of people in each group change over time. Taking the derivative with respect to\n",
    "time yields:\n",
    "\n",
    "\\begin{equation*}\n",
    "\\frac{dS}{dt} + \\frac{dI}{dt} +\\frac{dR}{dt} = 0\n",
    "\\end{equation*}\n",
    "\n",
    "The rate of change must net out to zero. If one bucket is draining another bucket must be filling up. The system of ordinary differential equations governing how the population in each bucket grow and shrinks is given by:\n",
    "\n",
    "\\begin{aligned}\n",
    "{\\frac {dS}{dt}} & =-{\\frac {\\beta IS}{N}},\\\\\n",
    "{\\frac {dI}{dt}} & ={\\frac {\\beta IS}{N}}-\\gamma I,\\\\\n",
    "{\\frac {dR}{dt}} & =\\gamma I,\n",
    "\\end{aligned}\n",
    "\n",
    "It is important to remember that the variables $S$, $I$, and $R$ are always positive and may evolve with time while\n",
    "$N$, $\\beta$, and $\\gamma$ are all positive constants. Given an initial population for each compartment, we can evolve\n",
    "the populations in each bucket over time. Note that $S$ may never grow since $\\beta$, $I$, $S$, and $N$ are always\n",
    "positive. Likewise, the population in the recovered compartment, $R$, may never decrease because both $\\gamma$ and $I$\n",
    "are positive. By contrast, the infectious population may grow or shrink depending on relative size of the two terms.\n",
    "\n",
    "We can generalize this model to populations of any size by replacing by thinking of the populations in terms of\n",
    "percent susceptible, infected and recovered as follows:\n",
    "\n",
    "\\begin{aligned}\n",
    "s(t) & ={\\frac {S(t)}{N}} \\\\\n",
    "i(t) & ={\\frac {I(t)}{N}} \\\\\n",
    "r(t) & ={\\frac {R(t)}{N}} \\\\\n",
    "\\end{aligned}\n",
    "\n",
    "Substitution $S=sN$, $I=iN$, and $R=rN$ into the original equations yields:\n",
    "\n",
    "\\begin{equation*}\n",
    "s(t) + i(t) + r(t) = 1\n",
    "\\end{equation*}\n",
    "\n",
    "\\begin{equation*}\n",
    "\\frac{ds}{dt} + \\frac{di}{dt} +\\frac{dr}{dt} = 0\n",
    "\\end{equation*}\n",
    "\n",
    "\\begin{aligned}\n",
    "{\\frac {ds}{dt}} & =-\\beta is,\\\\\n",
    "{\\frac {di}{dt}} & = \\beta is - \\gamma i,\\\\\n",
    "{\\frac {dr}{dt}} & = \\gamma i,\n",
    "\\end{aligned}\n",
    "\n",
    "Note that the equations above are independent of populations size $N$. Time for a quick diversion: what if the \n",
    "recovery rate $\\gamma$ is zero?"
   ]
  },
  {
   "cell_type": "markdown",
   "metadata": {
    "pycharm": {
     "name": "#%%\n"
    }
   },
   "source": [
    "# The SI Model\n",
    "\n",
    "When $\\gamma$ is zero, there is no recovery so $r=0$ and $dr/dt=0$. This is the zombie model (think World War Z or The Walking Dead). Alternatively, this model might describe meme transmission  the point where everybody is repeating it back to you. The SIR model reduces to the SI model, viz.\n",
    "\n",
    "\\begin{equation*}\n",
    "s(t) + i(t) = 1\n",
    "\\end{equation*}\n",
    "\n",
    "\\begin{equation*}\n",
    "\\frac{ds}{dt} + \\frac{di}{dt} = 0\n",
    "\\end{equation*}\n",
    "\n",
    "\\begin{aligned}\n",
    "{\\frac {ds}{dt}} & =-\\beta is,\\\\\n",
    "{\\frac {di}{dt}} & = \\beta is,\n",
    "\\end{aligned}\n",
    "\n",
    "If we substitue $i = 1 - s$ into the equation for $di/dt$ we get\n",
    "\n",
    "\\begin{equation*}\n",
    "\\frac{di}{dt} = \\beta i (1-i)\n",
    "\\end{equation*}\n",
    "\n",
    "Dividing through by $\\beta$ yields\n",
    "\n",
    "\\begin{equation*}\n",
    "\\frac{1}{\\beta}\\frac{di}{dt} = i - i^2\n",
    "\\end{equation*}\n",
    "\n",
    "Some may recognize this as the [logistic differential equation](https://brilliant.org/wiki/logistic-differential-equations/) with the solution\n",
    "\n",
    "\\begin{equation*}\n",
    "i(t) = \\frac{i_0}{i_0 + s_0 e^{-\\beta t}}\n",
    "\\end{equation*}\n",
    "\n",
    "where $i_0$ and $s_0$ are the values of $s$ and $i$ at $t=0$. When $t=0$, $e^{-\\beta t}=1$ and $i(0)=i_0$ (remember that $s_0 + i_0 = 1$). As $t \\rightarrow \\infty$, $e^{-\\beta t} \\rightarrow 0$ and $i(t) \\rightarrow 1$. Finally, note that as $t \\rightarrow -\\infty$, $i \\rightarrow 0$. Let's plot the solution:"
   ]
  },
  {
   "cell_type": "code",
   "execution_count": 12,
   "metadata": {},
   "outputs": [
    {
     "data": {
      "image/png": "[encoded data removed]",
      "text/plain": [
       "<Figure size 432x288 with 1 Axes>"
      ]
     },
     "metadata": {
      "needs_background": "light"
     },
     "output_type": "display_data"
    }
   ],
   "source": [
    "import matplotlib.pyplot as plt\n",
    "import numpy as np\n",
    "\n",
    "i_0 = 0.5\n",
    "s_0 = 1 - i_0\n",
    "betat = np.linspace(-10, 10, 200)\n",
    "plt.plot(betat, 1 - i_0 / (i_0 + s_0 * np.exp(-betat)), label='Susceptible')\n",
    "plt.plot(betat, 0 + i_0 / (i_0 + s_0 * np.exp(-betat)), label='Infected')\n",
    "plt.xlabel('\\u03B2 t')\n",
    "plt.ylabel('i(\\u03B2 t)')\n",
    "plt.xlim((-10,10))\n",
    "plt.ylim((0,1))\n",
    "plt.legend()\n",
    "plt.show()"
   ]
  },
  {
   "cell_type": "markdown",
   "metadata": {},
   "source": [
    "The plot above shows plots $i$ as a function of $\\beta t$ for $i_0 = 0.5$. The shape of the plot is the same for any value of $i_0$ it simply shifts from left to right. Also note that we never needed to specify $\\beta$ because $i$ is expressed in terms of $\\beta t$. It is interesting to note that $\\beta t$ is dimensionless since both $t$ and $1/\\beta$ have units of time. This observation will be useful when we revisit the SIR model. "
   ]
  },
  {
   "cell_type": "markdown",
   "metadata": {},
   "source": [
    "# The basic reproduction ratio $R_0$\n",
    "\n",
    "We have already scaled $s$, $i$ and $r$ by the total population size $N$. We will now scale time using the recovery rate $\\gamma$. We could Dividing through our previous equations by $\\gamma$ and introducing $\\tau=\\gamma t$ as our dimensionless time parameter yields\n",
    "\n",
    "\\begin{equation*}\n",
    "s(\\tau) + i(\\tau) + r(\\tau) = 1\n",
    "\\end{equation*}\n",
    "\n",
    "\\begin{equation*}\n",
    "\\frac{ds}{d\\tau} + \\frac{di}{d\\tau} +\\frac{dr}{d\\tau} = 0\n",
    "\\end{equation*}\n",
    "\n",
    "\\begin{aligned}\n",
    "{\\frac {ds}{d\\tau}} & =-R_0 is,\\\\\n",
    "{\\frac {di}{d\\tau}} & = R_0 is - i,\\\\\n",
    "{\\frac {dr}{d\\tau}} & = i,\n",
    "\\end{aligned}\n",
    "\n",
    "where we have introduced $R_0 = \\beta/\\gamma $ as the [basic reproduction ratio](https://en.wikipedia.org/wiki/Basic_reproduction_number) which is the ratio of the transmission rate to the recovery rate. $R_0$ is the average number of secondary cases arising from an average primary case in an entirely susceptible population. If $R_0$ is greater than 1 it means that the rate of infection may instantaneously outpace the rate of recovery resulting in an outbreak. We now have the SIR model with a single parameter, $R_0$. The constants $N$, $\\beta$, and $\\gamma$ scale the solution but do not change the evolution of the compartments. Let us now solve these equations to determine the time evolution of the populations."
   ]
  },
  {
   "cell_type": "code",
   "execution_count": 16,
   "metadata": {
    "pycharm": {
     "name": "#%%\n"
    }
   },
   "outputs": [
    {
     "data": {
      "image/png": "[encoded data removed]",
      "text/plain": [
       "<Figure size 432x288 with 1 Axes>"
      ]
     },
     "metadata": {
      "needs_background": "light"
     },
     "output_type": "display_data"
    }
   ],
   "source": [
    "import numpy as np\n",
    "import matplotlib.pyplot as plt\n",
    "from scipy.integrate import solve_ivp\n",
    "\n",
    "# The SIR model differential equations.\n",
    "def sir_model(t, y):\n",
    "    # basic reproduction ratio\n",
    "    R_0 = 2\n",
    "\n",
    "    s, i, r = y\n",
    "    dsdtau = -R_0 * s * i\n",
    "    didtau =  R_0 * s * i - i\n",
    "    drdtau =  i\n",
    "    return dsdtau, didtau, drdtau\n",
    "\n",
    "\n",
    "# Initial number of infected and recovered individuals\n",
    "# Everyone else is susceptible to infection initially.\n",
    "r_initial = 0\n",
    "i_initial = 0.001\n",
    "s_initial = 1 - i_initial - r_initial\n",
    "\n",
    "# Integrate the SIR equations over the time\n",
    "# ivp means initial value problem (as opposed to a boundary value problem)\n",
    "t_initial = 0\n",
    "t_final = 30\n",
    "sol = solve_ivp(sir_model, (t_initial, t_final), (s_initial, i_initial, r_initial),\n",
    "                t_eval=np.linspace(t_initial, t_final, 1000))\n",
    "s, i, r = sol.y\n",
    "\n",
    "plt.plot(sol.t, 100*s, label='Susceptible')\n",
    "plt.plot(sol.t, 100*i, label='Infected')\n",
    "plt.plot(sol.t, 100*r, label='Recovered')\n",
    "plt.xlabel(\"\\u03C4 = \\u03B3 t\")\n",
    "plt.ylabel('Percent')\n",
    "plt.xlim((0,30))\n",
    "plt.ylim((0,100))\n",
    "plt.legend()\n",
    "plt.show()"
   ]
  },
  {
   "cell_type": "markdown",
   "metadata": {},
   "source": [
    "# The SIS Model\n",
    "\n",
    "The common cold and influenza are examples of infections that do not give immunity upon recovery from infection. Rather than recovering, infectious individuals become susceptible again, viz.\n",
    "\n",
    "\\begin{equation*}\n",
    "Susceptible\\xrightarrow{\\beta}Infectious\\xrightarrow{\\gamma}Susceptible\n",
    "\\end{equation*}\n",
    "\n",
    "Note that the susceptible compartment now decreses as induvuals become infected and increases as they recover. This differs from the SIR model where the susceptible compartment may never increase. The SIS model in dimensionless form is:\n",
    "\n",
    "\\begin{equation*}\n",
    "s(\\tau) + i(\\tau) = 1\n",
    "\\end{equation*}\n",
    "\n",
    "\\begin{equation*}\n",
    "\\frac{ds}{d\\tau} + \\frac{di}{d\\tau} = 0\n",
    "\\end{equation*}\n",
    "\n",
    "\\begin{aligned}\n",
    "{\\frac {ds}{d\\tau}} & =-R_0 is + i,\\\\\n",
    "{\\frac {di}{d\\tau}} & = R_0 is - i,\n",
    "\\end{aligned}\n",
    "\n",
    "If we substitue $i = 1 - s$ into the equation for $di/d\\tau$ we get\n",
    "\n",
    "\\begin{equation*}\n",
    "\\frac{di}{d\\tau} = (R_0 - 1) i - R_0 i^2\n",
    "\\end{equation*}\n",
    "\n",
    "This is once again the [logistic differential equation](https://brilliant.org/wiki/logistic-differential-equations/)\n",
    "that we encountered with the SI model but with different coefficients. The solution for the SIS model is:\n",
    "\n",
    "\\begin{equation*}\n",
    "i(\\tau) = \\frac{i_0 i_\\infty}{i_0 + (i_\\infty - i_0) e^{- (R_0 - 1) \\tau}}\n",
    "\\end{equation*}\n",
    "\n",
    "where $i_0$ is the value of $i$ at $\\tau=0$ and $i_\\infty$ is a constant that depends only on $R_0$, namely:\n",
    "\n",
    "\\begin{equation*}\n",
    "i_\\infty = 1 - \\frac{1}{R_0}\n",
    "\\end{equation*}\n",
    "\n",
    "When $t=0$, $e^{- (R_0 - 1) \\tau}=1$ and we can conirm that $i(0)=i_0$. As $t \\rightarrow \\infty$, the behavior of the solution depends on the value of $R_0$. When $R_0 < 1$, $e^{- (R_0 - 1) \\tau} \\rightarrow \\infty$ and $i(t) \\rightarrow 0$. When $R_0 = 1$, $e^{- (R_0 - 1) \\tau} = 1$ and $i(t) = i_0$, remaining constant. This is the balancing point where the number if infectious individuals does not increase or decrease. Finally, when $R_0 > 1$, $e^{- (R_0 - 1) \\tau} \\rightarrow 0$ and $i(t) \\rightarrow i_\\infty$. Let's visualize these results.\n",
    "\n",
    "First, we will plot $i$ and $s$ as a function of $\\tau$ for $R_0 = 2.5$."
   ]
  },
  {
   "cell_type": "code",
   "execution_count": 18,
   "metadata": {
    "pycharm": {
     "name": "#%%\n"
    }
   },
   "outputs": [
    {
     "data": {
      "image/png": "[encoded data removed]",
      "text/plain": [
       "<Figure size 432x288 with 1 Axes>"
      ]
     },
     "metadata": {
      "needs_background": "light"
     },
     "output_type": "display_data"
    }
   ],
   "source": [
    "import matplotlib.pyplot as plt\n",
    "import numpy as np\n",
    "\n",
    "\n",
    "def sis_model_infectious(tau, i_0, R_0):\n",
    "    i_infty = 1.0 - (1.0 / R_0)\n",
    "    exponent = - (R_0 - 1) * tau\n",
    "    \n",
    "    return i_0 * i_infty / (i_0 + (i_infty - i_0) * np.exp(exponent))\n",
    "\n",
    "\n",
    "i_0 = 0.01\n",
    "s_0 = 1 - i_0\n",
    "R_0 = 2.5\n",
    "tau = np.linspace(0, 10, 200)\n",
    "plt.plot(tau, 1 - sis_model_infectious(tau, i_0, R_0), label='Susceptible')\n",
    "plt.plot(tau, 0 + sis_model_infectious(tau, i_0, R_0), label='Infected')\n",
    "plt.xlabel(\"\\u03C4 = \\u03B3 t\")\n",
    "plt.ylabel('i(\\u03C4)')\n",
    "plt.xlim((0,10))\n",
    "plt.ylim((0,1))\n",
    "plt.legend()\n",
    "plt.show()"
   ]
  },
  {
   "cell_type": "markdown",
   "metadata": {},
   "source": [
    "Second, we will plot $i_\\infty$ as a function of $R_0$, viz:"
   ]
  },
  {
   "cell_type": "code",
   "execution_count": 9,
   "metadata": {
    "pycharm": {
     "name": "#%%\n"
    }
   },
   "outputs": [
    {
     "data": {
      "image/png": "[encoded data removed]",
      "text/plain": [
       "<Figure size 432x288 with 1 Axes>"
      ]
     },
     "metadata": {
      "needs_background": "light"
     },
     "output_type": "display_data"
    }
   ],
   "source": [
    "import matplotlib.pyplot as plt\n",
    "import numpy as np\n",
    "\n",
    "R_0 = np.linspace(1, 10, 100)\n",
    "plt.plot(R_0, 1 - 1/R_0, label='Max Infected')\n",
    "plt.xlabel(\"R_0\")\n",
    "plt.ylabel('i_\\u221e')\n",
    "plt.xlim((0,10))\n",
    "plt.ylim((0,1))\n",
    "plt.legend()\n",
    "plt.show()"
   ]
  },
  {
   "cell_type": "code",
   "execution_count": null,
   "metadata": {},
   "outputs": [],
   "source": []
  }
 ],
 "metadata": {
  "kernelspec": {
   "display_name": "Python 3",
   "language": "python",
   "name": "python3"
  },
  "language_info": {
   "codemirror_mode": {
    "name": "ipython",
    "version": 3
   },
   "file_extension": ".py",
   "mimetype": "text/x-python",
   "name": "python",
   "nbconvert_exporter": "python",
   "pygments_lexer": "ipython3",
   "version": "3.7.4"
  }
 },
 "nbformat": 4,
 "nbformat_minor": 1
}
